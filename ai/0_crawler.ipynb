{
 "cells": [
  {
   "cell_type": "code",
   "execution_count": null,
   "metadata": {},
   "outputs": [],
   "source": [
    "import requests\n",
    "from bs4 import BeautifulSoup\n",
    "import os\n",
    "import glob\n",
    "from PIL import Image\n",
    "import imagehash"
   ]
  },
  {
   "cell_type": "code",
   "execution_count": null,
   "metadata": {},
   "outputs": [],
   "source": [
    "flower_label = {'rose' : 0,             # 장미\n",
    "                'sunflower': 1,         # 해바라기\n",
    "                'tulip' : 2,            # 튤립\n",
    "                'carnation' : 3,        # 카네이션\n",
    "                'gerbera' : 4,          # 거베라\n",
    "                'lily' : 5,             # 백합\n",
    "                'lisianthus' : 6,       # 리시안셔스\n",
    "                'small_chrysanthemum' : 7,    # 소국\n",
    "                'pompom_blooms' : 8,    # 퐁퐁국화\n",
    "                'alstroemeria' : 9,     # 알스트로메리아\n",
    "                'ranunculus' : 10,      # 라넌큘러스\n",
    "                'freesia' : 11,         # 프리지아\n",
    "                'iris' : 12,            # 붓꽃 (아이리스)\n",
    "                'hydrangea' : 13,       # 수국\n",
    "                'peony' : 14,            # 작약\n",
    "                'stock' : 15,           # 스톡\n",
    "                'spary_rose' : 16,      # 스프레이 장미\n",
    "                'ranunculus_butterfly':17,  # 라넌큘러스 버터플라이\n",
    "                }"
   ]
  },
  {
   "cell_type": "code",
   "execution_count": null,
   "metadata": {},
   "outputs": [],
   "source": [
    "url = 'https://openapi.naver.com/v1/search/image'\n",
    "header = {\n",
    "    'X-Naver-Client-Id': 'iwPIgOh0e7a1fgeRVg3y',\n",
    "    'X-Naver-Client-Secret' : 'rRjO7XI0eu'\n",
    "}\n",
    "\n",
    "# flowers = ['해바라기 한 송이', '거베라', '튤립 한 송이', '카네이션 한 송이', '리시안셔스 한 송이', '스프레이 장미 한 송이', '작약 한 송이', '라넌큘러스 한 송이', '프리지아 한 송이', '소국', '국화 한 송이', '백합 한 송이', '알스트로메리아']\n",
    "# dirs = ['sunflower', 'gubera', 'tulip', 'canation', 'risiansus', 'spray_rose', 'jacyak', 'lanunculase', 'prizia', 'small_guka', 'guka', 'backhap', 'alstromeria']\n",
    "flowers = ['장미 한 송이', '장미 생화']\n",
    "dirs = ['rose', 'rose']\n",
    "\n",
    "for i in range(len(flowers)):\n",
    "    \n",
    "    q = flowers[i]\n",
    "    directory = dirs[i]\n",
    "    \n",
    "    if not os.path.isdir(f'./0_flower_data/{directory}'):\n",
    "        os.makedirs(f'./0_flower_data/{directory}')\n",
    "    \n",
    "    for s in [1, 101, 201, 301, 401, 501]:\n",
    "        print(f'{q} : {s}번째')\n",
    "        params = {\n",
    "            'query' : q,\n",
    "            'display' : 100,\n",
    "            'start' : s\n",
    "        }\n",
    "\n",
    "        req = requests.get(url=url, params=params, headers=header).json()\n",
    "\n",
    "        items = req['items']\n",
    "\n",
    "        cnt = int(os.listdir(f'./0_flower_data/{directory}/')[-1][:-4][-4:])+1 if os.listdir(f'./0_flower_data/{directory}/') else 0\n",
    "\n",
    "        for item in items:\n",
    "            try:\n",
    "                img_url = item['link']\n",
    "                response = requests.get(img_url)\n",
    "                fn = str(cnt).rjust(4,'0')\n",
    "                with open(f'./0_flower_data/{directory}/{directory}_{fn}.jpg', 'wb') as f:\n",
    "                    f.write(response.content)\n",
    "            except:\n",
    "                print('여긴 안 되네양')\n",
    "            cnt += 1"
   ]
  },
  {
   "cell_type": "code",
   "execution_count": null,
   "metadata": {},
   "outputs": [],
   "source": [
    "flower = 'rose'\n",
    "\n",
    "hash_dict = {}\n",
    "x = []\n",
    "for f in os.listdir(f'./0_flower_data/{flower}'):\n",
    "\n",
    "    image_files = glob.glob(f\"./0_flower_data/{flower}/{f}\")  # 이미지 파일 경로 수정\n",
    "\n",
    "    for image_path in image_files:\n",
    "        try:\n",
    "            with Image.open(image_path) as img:\n",
    "                img_hash = imagehash.phash(img)\n",
    "                if img_hash not in hash_dict:\n",
    "                    hash_dict[img_hash] = image_path\n",
    "                else:\n",
    "                    print(f\"중복 이미지 발견: {image_path}\")\n",
    "                    x.append(image_path)\n",
    "        except:\n",
    "            x.append(image_path)\n",
    "\n",
    "for i in x:\n",
    "    print('이미지 삭제 : ', i)\n",
    "    os.remove(i)"
   ]
  },
  {
   "attachments": {},
   "cell_type": "markdown",
   "metadata": {},
   "source": [
    "### RGB로 변경 및 ICC 프로파일 제거"
   ]
  },
  {
   "cell_type": "code",
   "execution_count": null,
   "metadata": {},
   "outputs": [],
   "source": [
    "from PIL import Image\n",
    "\n",
    "flower = 'rose'\n",
    "\n",
    "for f in os.listdir(f'./0_flower_data/{flower}'):\n",
    "    img_path = f'./0_flower_data/{flower}/{f}'\n",
    "    with Image.open(img_path) as img:\n",
    "        img = img.convert('RGB')\n",
    "        img.save(img_path, icc_profile=None)  # ICC 프로파일 제거"
   ]
  },
  {
   "attachments": {},
   "cell_type": "markdown",
   "metadata": {},
   "source": [
    "### 이미지 파일 부재시, 라벨 파일도 함께 삭제"
   ]
  },
  {
   "cell_type": "code",
   "execution_count": null,
   "metadata": {},
   "outputs": [],
   "source": [
    "for CLS in ['train', 'test']:\n",
    "    img_list = os.listdir(f'./5_total_data/{CLS}/images')\n",
    "    for f in os.listdir(f'./5_total_data/{CLS}/labels/'):\n",
    "        f_jpg = f[:-4]+'.jpg'\n",
    "        if f_jpg not in img_list:\n",
    "            print(f)"
   ]
  },
  {
   "cell_type": "code",
   "execution_count": null,
   "metadata": {},
   "outputs": [],
   "source": []
  }
 ],
 "metadata": {
  "kernelspec": {
   "display_name": "flower",
   "language": "python",
   "name": "python3"
  },
  "language_info": {
   "codemirror_mode": {
    "name": "ipython",
    "version": 3
   },
   "file_extension": ".py",
   "mimetype": "text/x-python",
   "name": "python",
   "nbconvert_exporter": "python",
   "pygments_lexer": "ipython3",
   "version": "3.11.2"
  },
  "orig_nbformat": 4
 },
 "nbformat": 4,
 "nbformat_minor": 2
}
