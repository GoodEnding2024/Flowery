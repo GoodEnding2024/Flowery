{
 "cells": [
  {
   "cell_type": "code",
   "execution_count": 1,
   "metadata": {},
   "outputs": [],
   "source": [
    "import requests\n",
    "from bs4 import BeautifulSoup\n",
    "import os\n",
    "import glob\n",
    "from PIL import Image\n",
    "import imagehash"
   ]
  },
  {
   "cell_type": "code",
   "execution_count": 2,
   "metadata": {},
   "outputs": [],
   "source": [
    "url = 'https://openapi.naver.com/v1/search/image'\n",
    "header = {\n",
    "    'X-Naver-Client-Id': 'iwPIgOh0e7a1fgeRVg3y',\n",
    "    'X-Naver-Client-Secret' : 'rRjO7XI0eu'\n",
    "}"
   ]
  },
  {
   "cell_type": "code",
   "execution_count": 3,
   "metadata": {},
   "outputs": [
    {
     "name": "stdout",
     "output_type": "stream",
     "text": [
      "리시안셔스 : 1번째\n",
      "리시안셔스 : 101번째\n",
      "리시안셔스 : 201번째\n",
      "리시안셔스 : 301번째\n",
      "여긴 안 되네양\n",
      "리시안셔스 : 401번째\n",
      "리시안셔스 : 501번째\n",
      "리시안셔스 한 송이 : 1번째\n",
      "리시안셔스 한 송이 : 101번째\n",
      "리시안셔스 한 송이 : 201번째\n",
      "리시안셔스 한 송이 : 301번째\n",
      "여긴 안 되네양\n",
      "리시안셔스 한 송이 : 401번째\n",
      "여긴 안 되네양\n",
      "리시안셔스 한 송이 : 501번째\n"
     ]
    },
    {
     "ename": "FileNotFoundError",
     "evalue": "[WinError 3] 지정된 경로를 찾을 수 없습니다: \"./0_flower_data/['리시안셔스', '리시안셔스 한 송이']\"",
     "output_type": "error",
     "traceback": [
      "\u001b[1;31m---------------------------------------------------------------------------\u001b[0m",
      "\u001b[1;31mFileNotFoundError\u001b[0m                         Traceback (most recent call last)",
      "Cell \u001b[1;32mIn[3], line 44\u001b[0m\n\u001b[0;32m     42\u001b[0m hash_dict \u001b[39m=\u001b[39m {}\n\u001b[0;32m     43\u001b[0m x \u001b[39m=\u001b[39m []\n\u001b[1;32m---> 44\u001b[0m \u001b[39mfor\u001b[39;00m f \u001b[39min\u001b[39;00m os\u001b[39m.\u001b[39;49mlistdir(\u001b[39mf\u001b[39;49m\u001b[39m'\u001b[39;49m\u001b[39m./0_flower_data/\u001b[39;49m\u001b[39m{\u001b[39;49;00mflowers\u001b[39m}\u001b[39;49;00m\u001b[39m'\u001b[39;49m):\n\u001b[0;32m     46\u001b[0m     image_files \u001b[39m=\u001b[39m glob\u001b[39m.\u001b[39mglob(\u001b[39mf\u001b[39m\u001b[39m\"\u001b[39m\u001b[39m./0_flower_data/\u001b[39m\u001b[39m{\u001b[39;00mflowers\u001b[39m}\u001b[39;00m\u001b[39m\"\u001b[39m)  \u001b[39m# 이미지 파일 경로 수정\u001b[39;00m\n\u001b[0;32m     48\u001b[0m     \u001b[39mfor\u001b[39;00m image_path \u001b[39min\u001b[39;00m image_files:\n",
      "\u001b[1;31mFileNotFoundError\u001b[0m: [WinError 3] 지정된 경로를 찾을 수 없습니다: \"./0_flower_data/['리시안셔스', '리시안셔스 한 송이']\""
     ]
    }
   ],
   "source": [
    "url = 'https://openapi.naver.com/v1/search/image'\n",
    "header = {\n",
    "    'X-Naver-Client-Id': 'iwPIgOh0e7a1fgeRVg3y',\n",
    "    'X-Naver-Client-Secret' : 'rRjO7XI0eu'\n",
    "}\n",
    "\n",
    "# flowers = ['해바라기 한 송이', '거베라', '튤립 한 송이', '카네이션 한 송이', '리시안셔스 한 송이', '스프레이 장미 한 송이', '작약 한 송이', '라넌큘러스 한 송이', '프리지아 한 송이', '소국', '국화 한 송이', '백합 한 송이', '알스트로메리아']\n",
    "# dirs = ['sunflower', 'gubera', 'tulip', 'canation', 'risiansus', 'spray_rose', 'jacyak', 'lanunculase', 'prizia', 'small_guka', 'guka', 'backhap', 'alstromeria']\n",
    "flowers = ['리시안셔스', '리시안셔스 한 송이']\n",
    "dirs = ['lisianthus', 'lisianthus']\n",
    "\n",
    "for i in range(len(flowers)):\n",
    "    \n",
    "    q = flowers[i]\n",
    "    directory = dirs[i]\n",
    "    \n",
    "    for s in [1, 101, 201, 301, 401, 501]:\n",
    "        print(f'{q} : {s}번째')\n",
    "        params = {\n",
    "            'query' : q,\n",
    "            'display' : 100,\n",
    "            'start' : s\n",
    "        }\n",
    "\n",
    "        req = requests.get(url=url, params=params, headers=header).json()\n",
    "\n",
    "        items = req['items']\n",
    "\n",
    "        cnt = int(os.listdir(f'./0_flower_data/{directory}/')[-1][:-4][-4:])+1 if os.listdir(f'./0_flower_data/{directory}/') else 0\n",
    "\n",
    "        for item in items:\n",
    "            try:\n",
    "                img_url = item['link']\n",
    "                response = requests.get(img_url)\n",
    "                fn = str(cnt).rjust(4,'0')\n",
    "                with open(f'./0_flower_data/{directory}/{directory}_{fn}.jpg', 'wb') as f:\n",
    "                    f.write(response.content)\n",
    "            except:\n",
    "                print('여긴 안 되네양')\n",
    "            cnt += 1"
   ]
  },
  {
   "cell_type": "code",
   "execution_count": 10,
   "metadata": {},
   "outputs": [
    {
     "name": "stdout",
     "output_type": "stream",
     "text": [
      "중복 이미지 발견: ./0_flower_data/lisianthus/lisianthus_0207.jpg\n",
      "중복 이미지 발견: ./0_flower_data/lisianthus/lisianthus_0210.jpg\n",
      "중복 이미지 발견: ./0_flower_data/lisianthus/lisianthus_0212.jpg\n",
      "중복 이미지 발견: ./0_flower_data/lisianthus/lisianthus_0213.jpg\n",
      "중복 이미지 발견: ./0_flower_data/lisianthus/lisianthus_0218.jpg\n",
      "중복 이미지 발견: ./0_flower_data/lisianthus/lisianthus_0237.jpg\n",
      "중복 이미지 발견: ./0_flower_data/lisianthus/lisianthus_0306.jpg\n",
      "중복 이미지 발견: ./0_flower_data/lisianthus/lisianthus_0395.jpg\n",
      "중복 이미지 발견: ./0_flower_data/lisianthus/lisianthus_0543.jpg\n",
      "중복 이미지 발견: ./0_flower_data/lisianthus/lisianthus_0606.jpg\n",
      "중복 이미지 발견: ./0_flower_data/lisianthus/lisianthus_0607.jpg\n",
      "중복 이미지 발견: ./0_flower_data/lisianthus/lisianthus_0608.jpg\n",
      "중복 이미지 발견: ./0_flower_data/lisianthus/lisianthus_0609.jpg\n",
      "중복 이미지 발견: ./0_flower_data/lisianthus/lisianthus_0611.jpg\n",
      "중복 이미지 발견: ./0_flower_data/lisianthus/lisianthus_0612.jpg\n",
      "중복 이미지 발견: ./0_flower_data/lisianthus/lisianthus_0647.jpg\n",
      "중복 이미지 발견: ./0_flower_data/lisianthus/lisianthus_0828.jpg\n",
      "중복 이미지 발견: ./0_flower_data/lisianthus/lisianthus_0836.jpg\n",
      "중복 이미지 발견: ./0_flower_data/lisianthus/lisianthus_0837.jpg\n",
      "중복 이미지 발견: ./0_flower_data/lisianthus/lisianthus_0839.jpg\n",
      "중복 이미지 발견: ./0_flower_data/lisianthus/lisianthus_0852.jpg\n",
      "중복 이미지 발견: ./0_flower_data/lisianthus/lisianthus_0942.jpg\n",
      "중복 이미지 발견: ./0_flower_data/lisianthus/lisianthus_1038.jpg\n",
      "중복 이미지 발견: ./0_flower_data/lisianthus/lisianthus_1103.jpg\n",
      "중복 이미지 발견: ./0_flower_data/lisianthus/lisianthus_1109.jpg\n",
      "중복 이미지 발견: ./0_flower_data/lisianthus/lisianthus_1111.jpg\n",
      "이미지 삭제 :  ./0_flower_data/lisianthus/lisianthus_0174.jpg\n",
      "이미지 삭제 :  ./0_flower_data/lisianthus/lisianthus_0207.jpg\n",
      "이미지 삭제 :  ./0_flower_data/lisianthus/lisianthus_0210.jpg\n",
      "이미지 삭제 :  ./0_flower_data/lisianthus/lisianthus_0212.jpg\n",
      "이미지 삭제 :  ./0_flower_data/lisianthus/lisianthus_0213.jpg\n",
      "이미지 삭제 :  ./0_flower_data/lisianthus/lisianthus_0218.jpg\n",
      "이미지 삭제 :  ./0_flower_data/lisianthus/lisianthus_0237.jpg\n",
      "이미지 삭제 :  ./0_flower_data/lisianthus/lisianthus_0247.jpg\n",
      "이미지 삭제 :  ./0_flower_data/lisianthus/lisianthus_0306.jpg\n",
      "이미지 삭제 :  ./0_flower_data/lisianthus/lisianthus_0351.jpg\n",
      "이미지 삭제 :  ./0_flower_data/lisianthus/lisianthus_0364.jpg\n",
      "이미지 삭제 :  ./0_flower_data/lisianthus/lisianthus_0395.jpg\n",
      "이미지 삭제 :  ./0_flower_data/lisianthus/lisianthus_0399.jpg\n",
      "이미지 삭제 :  ./0_flower_data/lisianthus/lisianthus_0407.jpg\n",
      "이미지 삭제 :  ./0_flower_data/lisianthus/lisianthus_0414.jpg\n",
      "이미지 삭제 :  ./0_flower_data/lisianthus/lisianthus_0462.jpg\n",
      "이미지 삭제 :  ./0_flower_data/lisianthus/lisianthus_0470.jpg\n",
      "이미지 삭제 :  ./0_flower_data/lisianthus/lisianthus_0484.jpg\n",
      "이미지 삭제 :  ./0_flower_data/lisianthus/lisianthus_0543.jpg\n",
      "이미지 삭제 :  ./0_flower_data/lisianthus/lisianthus_0606.jpg\n",
      "이미지 삭제 :  ./0_flower_data/lisianthus/lisianthus_0607.jpg\n",
      "이미지 삭제 :  ./0_flower_data/lisianthus/lisianthus_0608.jpg\n",
      "이미지 삭제 :  ./0_flower_data/lisianthus/lisianthus_0609.jpg\n",
      "이미지 삭제 :  ./0_flower_data/lisianthus/lisianthus_0611.jpg\n",
      "이미지 삭제 :  ./0_flower_data/lisianthus/lisianthus_0612.jpg\n",
      "이미지 삭제 :  ./0_flower_data/lisianthus/lisianthus_0647.jpg\n",
      "이미지 삭제 :  ./0_flower_data/lisianthus/lisianthus_0666.jpg\n",
      "이미지 삭제 :  ./0_flower_data/lisianthus/lisianthus_0717.jpg\n",
      "이미지 삭제 :  ./0_flower_data/lisianthus/lisianthus_0745.jpg\n",
      "이미지 삭제 :  ./0_flower_data/lisianthus/lisianthus_0786.jpg\n",
      "이미지 삭제 :  ./0_flower_data/lisianthus/lisianthus_0828.jpg\n",
      "이미지 삭제 :  ./0_flower_data/lisianthus/lisianthus_0836.jpg\n",
      "이미지 삭제 :  ./0_flower_data/lisianthus/lisianthus_0837.jpg\n",
      "이미지 삭제 :  ./0_flower_data/lisianthus/lisianthus_0839.jpg\n",
      "이미지 삭제 :  ./0_flower_data/lisianthus/lisianthus_0840.jpg\n",
      "이미지 삭제 :  ./0_flower_data/lisianthus/lisianthus_0852.jpg\n",
      "이미지 삭제 :  ./0_flower_data/lisianthus/lisianthus_0868.jpg\n",
      "이미지 삭제 :  ./0_flower_data/lisianthus/lisianthus_0906.jpg\n",
      "이미지 삭제 :  ./0_flower_data/lisianthus/lisianthus_0908.jpg\n",
      "이미지 삭제 :  ./0_flower_data/lisianthus/lisianthus_0942.jpg\n",
      "이미지 삭제 :  ./0_flower_data/lisianthus/lisianthus_0977.jpg\n",
      "이미지 삭제 :  ./0_flower_data/lisianthus/lisianthus_1038.jpg\n",
      "이미지 삭제 :  ./0_flower_data/lisianthus/lisianthus_1047.jpg\n",
      "이미지 삭제 :  ./0_flower_data/lisianthus/lisianthus_1083.jpg\n",
      "이미지 삭제 :  ./0_flower_data/lisianthus/lisianthus_1089.jpg\n",
      "이미지 삭제 :  ./0_flower_data/lisianthus/lisianthus_1090.jpg\n",
      "이미지 삭제 :  ./0_flower_data/lisianthus/lisianthus_1103.jpg\n",
      "이미지 삭제 :  ./0_flower_data/lisianthus/lisianthus_1109.jpg\n",
      "이미지 삭제 :  ./0_flower_data/lisianthus/lisianthus_1111.jpg\n",
      "이미지 삭제 :  ./0_flower_data/lisianthus/lisianthus_1125.jpg\n"
     ]
    }
   ],
   "source": [
    "flower = 'lisianthus'\n",
    "\n",
    "hash_dict = {}\n",
    "x = []\n",
    "for f in os.listdir(f'./0_flower_data/{flower}'):\n",
    "\n",
    "    image_files = glob.glob(f\"./0_flower_data/{flower}/{f}\")  # 이미지 파일 경로 수정\n",
    "\n",
    "    for image_path in image_files:\n",
    "        try:\n",
    "            with Image.open(image_path) as img:\n",
    "                img_hash = imagehash.phash(img)\n",
    "                if img_hash not in hash_dict:\n",
    "                    hash_dict[img_hash] = image_path\n",
    "                else:\n",
    "                    print(f\"중복 이미지 발견: {image_path}\")\n",
    "                    x.append(image_path)\n",
    "        except:\n",
    "            x.append(image_path)\n",
    "\n",
    "for i in x:\n",
    "    print('이미지 삭제 : ', i)\n",
    "    os.remove(i)"
   ]
  },
  {
   "attachments": {},
   "cell_type": "markdown",
   "metadata": {},
   "source": [
    "### RGB로 변경 및 ICC 프로파일 제거"
   ]
  },
  {
   "cell_type": "code",
   "execution_count": null,
   "metadata": {},
   "outputs": [],
   "source": [
    "from PIL import Image\n",
    "\n",
    "for CLS in ['train', 'test']:\n",
    "    for f in os.listdir(f'./5_total_data/{CLS}/images/'):\n",
    "        img_path = f\"./5_total_data/{CLS}/images/{f}\"\n",
    "\n",
    "        with Image.open(img_path) as img:\n",
    "            img = img.convert('RGB')\n",
    "            img.save(img_path, icc_profile=None)  # ICC 프로파일 제거"
   ]
  },
  {
   "attachments": {},
   "cell_type": "markdown",
   "metadata": {},
   "source": [
    "### 이미지 파일 부재시, 라벨 파일도 함께 삭제"
   ]
  },
  {
   "cell_type": "code",
   "execution_count": null,
   "metadata": {},
   "outputs": [],
   "source": [
    "for CLS in ['train', 'test']:\n",
    "    img_list = os.listdir(f'./5_total_data/{CLS}/images')\n",
    "    for f in os.listdir(f'./5_total_data/{CLS}/labels/'):\n",
    "        f_jpg = f[:-4]+'.jpg'\n",
    "        if f_jpg not in img_list:\n",
    "            print(f)"
   ]
  }
 ],
 "metadata": {
  "kernelspec": {
   "display_name": "flower",
   "language": "python",
   "name": "python3"
  },
  "language_info": {
   "codemirror_mode": {
    "name": "ipython",
    "version": 3
   },
   "file_extension": ".py",
   "mimetype": "text/x-python",
   "name": "python",
   "nbconvert_exporter": "python",
   "pygments_lexer": "ipython3",
   "version": "3.11.2"
  },
  "orig_nbformat": 4
 },
 "nbformat": 4,
 "nbformat_minor": 2
}
