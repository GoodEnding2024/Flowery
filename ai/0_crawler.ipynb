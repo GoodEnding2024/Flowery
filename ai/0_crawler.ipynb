{
 "cells": [
  {
   "cell_type": "code",
   "execution_count": 6,
   "metadata": {},
   "outputs": [],
   "source": [
    "import requests\n",
    "from bs4 import BeautifulSoup\n",
    "import os"
   ]
  },
  {
   "cell_type": "code",
   "execution_count": 7,
   "metadata": {},
   "outputs": [],
   "source": [
    "url = 'https://openapi.naver.com/v1/search/image'\n",
    "header = {\n",
    "    'X-Naver-Client-Id': 'iwPIgOh0e7a1fgeRVg3y',\n",
    "    'X-Naver-Client-Secret' : 'rRjO7XI0eu'\n",
    "}"
   ]
  },
  {
   "cell_type": "code",
   "execution_count": 8,
   "metadata": {},
   "outputs": [
    {
     "name": "stdout",
     "output_type": "stream",
     "text": [
      "거베라 생화 한송이 : 1번째\n",
      "거베라 생화 한송이 : 101번째\n",
      "거베라 생화 한송이 : 201번째\n",
      "거베라 생화 한송이 : 301번째\n",
      "거베라 생화 한송이 : 401번째\n",
      "거베라 생화 한송이 : 501번째\n",
      "생화 거베라 : 1번째\n",
      "생화 거베라 : 101번째\n",
      "생화 거베라 : 201번째\n",
      "생화 거베라 : 301번째\n",
      "생화 거베라 : 401번째\n",
      "생화 거베라 : 501번째\n"
     ]
    }
   ],
   "source": [
    "url = 'https://openapi.naver.com/v1/search/image'\n",
    "header = {\n",
    "    'X-Naver-Client-Id': 'iwPIgOh0e7a1fgeRVg3y',\n",
    "    'X-Naver-Client-Secret' : 'rRjO7XI0eu'\n",
    "}\n",
    "\n",
    "# flowers = ['해바라기 한 송이', '거베라', '튤립 한 송이', '카네이션 한 송이', '리시안셔스 한 송이', '스프레이 장미 한 송이', '작약 한 송이', '라넌큘러스 한 송이', '프리지아 한 송이', '소국', '국화 한 송이', '백합 한 송이', '알스트로메리아']\n",
    "# dirs = ['sunflower', 'gubera', 'tulip', 'canation', 'risiansus', 'spray_rose', 'jacyak', 'lanunculase', 'prizia', 'small_guka', 'guka', 'backhap', 'alstromeria']\n",
    "flowers = ['거베라 생화 한송이', '생화 거베라']\n",
    "dirs = ['gerbera', 'gerbera']\n",
    "\n",
    "for i in range(len(flowers)):\n",
    "    \n",
    "    q = flowers[i]\n",
    "    directory = dirs[i]\n",
    "    \n",
    "    for s in [1, 101, 201, 301, 401, 501]:\n",
    "        print(f'{q} : {s}번째')\n",
    "        params = {\n",
    "            'query' : q,\n",
    "            'display' : 100,\n",
    "            'start' : s\n",
    "        }\n",
    "\n",
    "        req = requests.get(url=url, params=params, headers=header).json()\n",
    "\n",
    "        items = req['items']\n",
    "\n",
    "        cnt = int(os.listdir(f'./0_flower_data/{directory}/')[-1][:-4][-4:])+1 if os.listdir(f'./0_flower_data/{directory}/') else 0\n",
    "\n",
    "        for item in items:\n",
    "            try:\n",
    "                img_url = item['link']\n",
    "                response = requests.get(img_url)\n",
    "                fn = str(cnt).rjust(4,'0')\n",
    "                with open(f'./0_flower_data/{directory}/{directory}_{fn}.jpg', 'wb') as f:\n",
    "                    f.write(response.content)\n",
    "            except:\n",
    "                print('여긴 안 되네양')\n",
    "            cnt += 1"
   ]
  },
  {
   "cell_type": "code",
   "execution_count": null,
   "metadata": {},
   "outputs": [],
   "source": []
  }
 ],
 "metadata": {
  "kernelspec": {
   "display_name": "flower",
   "language": "python",
   "name": "python3"
  },
  "language_info": {
   "codemirror_mode": {
    "name": "ipython",
    "version": 3
   },
   "file_extension": ".py",
   "mimetype": "text/x-python",
   "name": "python",
   "nbconvert_exporter": "python",
   "pygments_lexer": "ipython3",
   "version": "3.11.2"
  },
  "orig_nbformat": 4
 },
 "nbformat": 4,
 "nbformat_minor": 2
}
