{
 "cells": [
  {
   "attachments": {},
   "cell_type": "markdown",
   "metadata": {},
   "source": [
    "# 이미지의 바운딩 박스를 gui로 쉽게 그리자 아하"
   ]
  },
  {
   "attachments": {},
   "cell_type": "markdown",
   "metadata": {},
   "source": [
    "## 바운딩할 꽃 종류를 정하자"
   ]
  },
  {
   "cell_type": "code",
   "execution_count": 1,
   "metadata": {},
   "outputs": [],
   "source": [
    "import os\n",
    "import cv2\n",
    "import numpy as np\n",
    "\n",
    "\n",
    "flower_label = {'rose' : 0,             # 장미\n",
    "                'sunflower': 1,         # 해바라기\n",
    "                'tulip' : 2,            # 튤립\n",
    "                'carnation' : 3,        # 카네이션\n",
    "                'gerbera' : 4,          # 거베라\n",
    "                'lily' : 5,             # 백합\n",
    "                'freesia' : 6,          # 프리지아\n",
    "                'chrysanthemum' : 7,    # 국화\n",
    "                'peony' : 8,            # 작약\n",
    "                'alstroemeria' : 9,     # 알스트로메리아\n",
    "                'ranunculus' : 10,      # 라넌큘러스\n",
    "                'lisianthus' : 11,      # 리시안셔스\n",
    "                'iris' : 12,            # 붓꽃 (아이리스)\n",
    "                'hydrangea' : 13,       # 수국\n",
    "                'pompom blooms' :14,    # 퐁퐁국화\n",
    "                'stock' : 15,           # 스톡\n",
    "                'spary_rose' : 16,      # 스프레이 장미\n",
    "                'ranunculus_butterfly':17,  # 라넌큘러스 버터플라이\n",
    "                \n",
    "                \n",
    "                }\n",
    "\n",
    "flower = 'gerbera'\n",
    "\n",
    "f_num = flower_label[flower]\n",
    "\n",
    "path = f'./0_flower_data/{flower}'"
   ]
  },
  {
   "cell_type": "code",
   "execution_count": 3,
   "metadata": {},
   "outputs": [],
   "source": [
    "# 마우스 이벤트 콜백 함수\n",
    "def mouse_callback(event, x, y, flags, param):\n",
    "    global point1, point2, cnt, img, img2, coordi\n",
    "    if event == cv2.EVENT_LBUTTONDOWN:\n",
    "        if cnt%2:\n",
    "            point1 = (x, y)\n",
    "            img2 = img.copy()\n",
    "            cv2.line(img, (x, y), (x, img.shape[0]), (0, 255, 0), 10)\n",
    "            cv2.line(img, (x, y), (img.shape[1], y), (0, 255, 0), 10)\n",
    "            cv2.imshow(f'{f_name} {width} * {height}', img)\n",
    "        else:\n",
    "            px, py = point1\n",
    "            cv2.line(img2, (px, py), (px, y), (0, 255, 0), 10)\n",
    "            cv2.line(img2, (px, py), (x, py), (0, 255, 0), 10)\n",
    "            cv2.line(img2, (x, y), (px, y), (0, 255, 0), 10)\n",
    "            cv2.line(img2, (x, y), (x, py), (0, 255, 0), 10)\n",
    "            cv2.imshow(f'{f_name} {width} * {height}', img2)\n",
    "            img = img2.copy()\n",
    "            point2 = (x, y)\n",
    "            \n",
    "            if point1 and point2:\n",
    "                # 좌측상단 좌표와 우측하단 좌표로 변환\n",
    "                x1, y1 = min(point1[0], point2[0]), min(point1[1], point2[1])\n",
    "                x2, y2 = max(point1[0], point2[0]), max(point1[1], point2[1])\n",
    "                \n",
    "                x = round((x1+(x2-x1)/2)/img.shape[1], 4)\n",
    "                y = round((y1+(y2-y1)/2)/img.shape[0], 4)\n",
    "                w = round((x2-x1)/img.shape[1], 4)\n",
    "                h = round((y2-y1)/img.shape[0], 4)\n",
    "                \n",
    "                coordi += f\"{f_num} {x} {y} {w} {h}\\n\"\n",
    "                # 좌표 저장\n",
    "        cnt += 1\n",
    "\n",
    "break_plag = False\n",
    "flower_list = os.listdir(path)\n",
    "\n",
    "if not os.path.isdir(f'./1_labels_data/{flower}'):\n",
    "    os.mkdir(f'./1_labels_data/{flower}')\n",
    "\n",
    "for f_name in flower_list:\n",
    "    \n",
    "    if break_plag:\n",
    "        break\n",
    "    \n",
    "    # 이미지 파일 경로\n",
    "    img_path = f'./0_flower_data/{flower}/{f_name}'\n",
    "\n",
    "    # 이미지 로드 및 윈도우 생성\n",
    "    img = cv2.imread(img_path)\n",
    "    \n",
    "    if type(img) != np.ndarray:\n",
    "        os.remove(f'./0_flower_data/{flower}/{f_name}')\n",
    "        continue\n",
    "    \n",
    "    height, width = img.shape[:2]\n",
    "    \n",
    "    if height > width:\n",
    "        new_height = 640\n",
    "        new_width = int(width * (new_height / height))\n",
    "    else:\n",
    "        new_width = 640\n",
    "        new_height = int(height * (new_width / width))\n",
    "    \n",
    "    cv2.namedWindow(f'{f_name} {width} * {height}', cv2.WINDOW_NORMAL)\n",
    "    cv2.resizeWindow(f'{f_name} {width} * {height}', (new_width, new_height))\n",
    "    cv2.setMouseCallback(f'{f_name} {width} * {height}', mouse_callback)\n",
    "    cv2.imshow(f'{f_name} {width} * {height}', img)\n",
    "\n",
    "    # 마우스 이벤트를 통한 좌표 저장\n",
    "    point1, point2, coordi, cnt = None, None, '', 1\n",
    "    while True:\n",
    "        key = cv2.waitKey(1) & 0xFF\n",
    "        \n",
    "        # 좌표를 txt 파일로 저장하고 다음으로 넘어가기\n",
    "        # 만약 좌표를 그리지 않았다면 저장하지 않고 그냥 넘어가기\n",
    "        if key == ord(\"q\"):\n",
    "            if coordi == '':\n",
    "                break\n",
    "            \n",
    "            with open(f\"./1_labels_data/{flower}/{f_name[:-4]}.txt\", \"a\") as f:\n",
    "                f.write(coordi)\n",
    "            break\n",
    "        \n",
    "        # 저장하지 않은 좌표들을 지우고, 다시 그리기\n",
    "        elif key == ord('c'):\n",
    "            cnt = 1\n",
    "            img = cv2.imread(img_path)\n",
    "            coordi = ''\n",
    "            cv2.imshow(f'{f_name} {width} * {height}', img)\n",
    "        \n",
    "        # 볼 것도 없다. 데이터셋에서 그냥 삭제\n",
    "        elif key == ord('f'):\n",
    "            os.remove(f'./0_flower_data/{flower}/{f_name}')\n",
    "            break\n",
    "        \n",
    "        # 여기서 끝내기!\n",
    "        elif key == ord('p'):\n",
    "            break_plag = True\n",
    "            break\n",
    "\n",
    "    # 윈도우 종료 및 리소스 해제q\n",
    "    cv2.destroyAllWindows()"
   ]
  },
  {
   "attachments": {},
   "cell_type": "markdown",
   "metadata": {},
   "source": [
    "## 바운딩 박스 그리기가 끝난 애들을 2로 넘기자"
   ]
  },
  {
   "cell_type": "code",
   "execution_count": 7,
   "metadata": {},
   "outputs": [],
   "source": [
    "import shutil\n",
    "\n",
    "bounding_txt = {i[:-4]:True for i in os.listdir(f'./1_labels_data/{flower}')}\n",
    "img_list = [i[:-4] for i in os.listdir(f'./0_flower_data/{flower}')]\n",
    "\n",
    "if not os.path.isdir(f'./2_learning_img/{flower}'):\n",
    "    os.mkdir(f'./2_learning_img/{flower}')\n",
    "\n",
    "for i in img_list:\n",
    "    if bounding_txt.get(i):\n",
    "        shutil.copy(f'./0_flower_data/{flower}/{i}.jpg', f'./2_learning_img/{flower}/{i}.jpg')"
   ]
  },
  {
   "attachments": {},
   "cell_type": "markdown",
   "metadata": {},
   "source": [
    "## 2의 이미지와 1의 라벨들을 3으로 나눠 보내자"
   ]
  },
  {
   "cell_type": "code",
   "execution_count": 8,
   "metadata": {},
   "outputs": [],
   "source": [
    "import random\n",
    "\n",
    "bounding_txt = os.listdir(f'./1_labels_data/{flower}')\n",
    "img_list = os.listdir(f'./2_learning_img/{flower}')\n",
    "\n",
    "random_list = random.sample([i for i in range(len(img_list))], len(img_list)//10*2)\n",
    "\n",
    "for i in range(len(img_list)):\n",
    "    CLS = 'train'\n",
    "    label = bounding_txt[i]\n",
    "    img = img_list[i]\n",
    "    \n",
    "    if i in random_list:\n",
    "        CLS = 'test'\n",
    "    \n",
    "    shutil.move(f'./2_learning_img/{flower}/{img}', f'./3_one_time_data/{CLS}/images/{img}', )\n",
    "    shutil.move(f'./1_labels_data/{flower}/{label}', f'./3_one_time_data/{CLS}/labels/{label}')"
   ]
  },
  {
   "attachments": {},
   "cell_type": "markdown",
   "metadata": {},
   "source": [
    "# 1차 학습 시작"
   ]
  },
  {
   "attachments": {},
   "cell_type": "markdown",
   "metadata": {},
   "source": [
    "# 이 아래는 파일 관리"
   ]
  },
  {
   "attachments": {},
   "cell_type": "markdown",
   "metadata": {},
   "source": [
    "### 3의 이전 파일들 삭제하기"
   ]
  },
  {
   "cell_type": "code",
   "execution_count": 4,
   "metadata": {},
   "outputs": [],
   "source": [
    "for C in ['train', 'test']:\n",
    "    for L in ['labels', 'images']:\n",
    "        for i in os.listdir(f'./3_one_time_data/{C}/{L}'):\n",
    "            os.remove(f'./3_one_time_data/{C}/{L}/{i}')\n",
    "    \n",
    "    if os.path.isfile(f'./3_one_time_data/{C}/labels.cache'):\n",
    "        os.remove(f'./3_one_time_data/{C}/labels.cache')"
   ]
  },
  {
   "attachments": {},
   "cell_type": "markdown",
   "metadata": {},
   "source": [
    "### 3의 파일을 돌리는 코드"
   ]
  },
  {
   "cell_type": "code",
   "execution_count": 113,
   "metadata": {},
   "outputs": [],
   "source": [
    "for C in ['train', 'test']:\n",
    "    for L in ['labels', 'images']:\n",
    "        for i in os.listdir(f'./3_one_time_data/{C}/{L}'):\n",
    "            if L == 'images':\n",
    "                shutil.move(f'./3_one_time_data/{C}/{L}/{i}', f'./2_learning_img/{flower}/{i}')\n",
    "            else:\n",
    "                shutil.move(f'./3_one_time_data/{C}/{L}/{i}', f'./1_labels_data/{flower}/{i}')\n",
    "    \n",
    "    if os.path.isfile(f'./3_one_time_data/{C}/labels.cache'):\n",
    "        os.remove(f'./3_one_time_data/{C}/labels.cache')"
   ]
  },
  {
   "cell_type": "code",
   "execution_count": 3,
   "metadata": {},
   "outputs": [],
   "source": []
  }
 ],
 "metadata": {
  "kernelspec": {
   "display_name": "flower",
   "language": "python",
   "name": "python3"
  },
  "language_info": {
   "codemirror_mode": {
    "name": "ipython",
    "version": 3
   },
   "file_extension": ".py",
   "mimetype": "text/x-python",
   "name": "python",
   "nbconvert_exporter": "python",
   "pygments_lexer": "ipython3",
   "version": "3.11.2"
  },
  "orig_nbformat": 4
 },
 "nbformat": 4,
 "nbformat_minor": 2
}
