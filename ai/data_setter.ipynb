{
 "cells": [
  {
   "cell_type": "code",
   "execution_count": 1,
   "metadata": {},
   "outputs": [],
   "source": [
    "import cv2\n",
    "import numpy as np\n",
    "import pandas as pd\n",
    "import os"
   ]
  },
  {
   "cell_type": "code",
   "execution_count": 23,
   "metadata": {},
   "outputs": [],
   "source": [
    "f = 'labels'\n",
    "\n",
    "file_list = os.listdir(f'./flower_data/test_rose/{f}')\n",
    "\n",
    "for i in range(1, len(file_list)+1):\n",
    "    os.rename(f'./flower_data/test_rose/{f}/{file_list[i-1]}', f'./flower_data/test_rose/{f}/{str(i)}.{file_list[0][-3:]}')"
   ]
  },
  {
   "cell_type": "code",
   "execution_count": 4,
   "metadata": {},
   "outputs": [],
   "source": [
    "dir_name = 'test_rose'\n",
    "\n",
    "img_list = os.listdir(f'./flower_data/{dir_name}/images')\n",
    "\n",
    "for f_name in img_list:\n",
    "    # 이미지 로드\n",
    "    img = cv2.imread(f'./flower_data/{dir_name}/images/{f_name}')\n",
    "\n",
    "    # 이미지를 HSV 색 공간으로 변환\n",
    "    hsv = cv2.cvtColor(img, cv2.COLOR_BGR2HSV)\n",
    "\n",
    "    # 장미꽃 봉우리의 색상 범위 정의\n",
    "    lower_red = np.array([0, 50, 50])\n",
    "    upper_red = np.array([10, 255, 255])\n",
    "\n",
    "    # 임계값 처리\n",
    "    mask1 = cv2.inRange(hsv, lower_red, upper_red)\n",
    "\n",
    "    # 장미꽃 봉우리의 색상 범위 정의\n",
    "    lower_red = np.array([170, 50, 50])\n",
    "    upper_red = np.array([180, 255, 255])\n",
    "\n",
    "    # 임계값 처리\n",
    "    mask2 = cv2.inRange(hsv, lower_red, upper_red)\n",
    "\n",
    "    # 두 개의 마스크를 합치기\n",
    "    mask = cv2.add(mask1, mask2)\n",
    "\n",
    "    # 블러 처리\n",
    "    mask = cv2.GaussianBlur(mask, (5, 5), 0)\n",
    "\n",
    "    # 바운딩 박스 검출\n",
    "    contours, hierarchy = cv2.findContours(mask, cv2.RETR_EXTERNAL, cv2.CHAIN_APPROX_SIMPLE)\n",
    "\n",
    "    for cnt in contours:\n",
    "        wh = 0\n",
    "        # contour의 영역을 얻어 바운딩 박스 그리기\n",
    "        x, y, w, h = cv2.boundingRect(cnt)\n",
    "        if w + h > wh:\n",
    "            rx, ry, rw, rh = x,y,w,h\n",
    "            \n",
    "    cv2.rectangle(img, (rx, ry), (rx + rw, ry + rh), (0, 255, 0), 2)\n",
    "\n",
    "    # # 결과 이미지 출력\n",
    "    # cv2.imshow('result', img)\n",
    "    # cv2.waitKey(0)\n",
    "    # cv2.destroyAllWindows()\n",
    "    \n",
    "    with open(f'./flower_data/{dir_name}/labels/{f_name[:-4]}.txt', 'w') as f:\n",
    "        f.write(f'0 {round(rx/len(img[0]),4)} {round(ry/len(img),4)} {round(rw/len(img[0]), 4)} {round(rh/len(img),4)}')"
   ]
  },
  {
   "cell_type": "code",
   "execution_count": 51,
   "metadata": {},
   "outputs": [
    {
     "ename": "FileNotFoundError",
     "evalue": "[Errno 2] No such file or directory: './flower_data/test_rose/labels/1.txt'",
     "output_type": "error",
     "traceback": [
      "\u001b[1;31m---------------------------------------------------------------------------\u001b[0m",
      "\u001b[1;31mFileNotFoundError\u001b[0m                         Traceback (most recent call last)",
      "Cell \u001b[1;32mIn[51], line 1\u001b[0m\n\u001b[1;32m----> 1\u001b[0m \u001b[39mwith\u001b[39;00m \u001b[39mopen\u001b[39;49m(\u001b[39mf\u001b[39;49m\u001b[39m'\u001b[39;49m\u001b[39m./flower_data/\u001b[39;49m\u001b[39m{\u001b[39;49;00mdir_name\u001b[39m}\u001b[39;49;00m\u001b[39m/labels/\u001b[39;49m\u001b[39m{\u001b[39;49;00mf_name[:\u001b[39m-\u001b[39;49m\u001b[39m4\u001b[39;49m]\u001b[39m}\u001b[39;49;00m\u001b[39m.txt\u001b[39;49m\u001b[39m'\u001b[39;49m, \u001b[39m'\u001b[39;49m\u001b[39mw\u001b[39;49m\u001b[39m'\u001b[39;49m) \u001b[39mas\u001b[39;00m f:\n\u001b[0;32m      2\u001b[0m     f\u001b[39m.\u001b[39mwrite(\u001b[39mf\u001b[39m\u001b[39m'\u001b[39m\u001b[39m0 \u001b[39m\u001b[39m{\u001b[39;00m\u001b[39mround\u001b[39m(rx\u001b[39m/\u001b[39m\u001b[39mlen\u001b[39m(img[\u001b[39m0\u001b[39m]),\u001b[39m4\u001b[39m)\u001b[39m}\u001b[39;00m\u001b[39m \u001b[39m\u001b[39m{\u001b[39;00m\u001b[39mround\u001b[39m(ry\u001b[39m/\u001b[39m\u001b[39mlen\u001b[39m(img),\u001b[39m4\u001b[39m)\u001b[39m}\u001b[39;00m\u001b[39m \u001b[39m\u001b[39m{\u001b[39;00m\u001b[39mround\u001b[39m(rw\u001b[39m/\u001b[39m\u001b[39mlen\u001b[39m(img[\u001b[39m0\u001b[39m]),\u001b[39m \u001b[39m\u001b[39m4\u001b[39m)\u001b[39m}\u001b[39;00m\u001b[39m \u001b[39m\u001b[39m{\u001b[39;00m\u001b[39mround\u001b[39m(rh\u001b[39m/\u001b[39m\u001b[39mlen\u001b[39m(img),\u001b[39m4\u001b[39m)\u001b[39m}\u001b[39;00m\u001b[39m'\u001b[39m)\n",
      "File \u001b[1;32m~\\AppData\\Roaming\\Python\\Python311\\site-packages\\IPython\\core\\interactiveshell.py:282\u001b[0m, in \u001b[0;36m_modified_open\u001b[1;34m(file, *args, **kwargs)\u001b[0m\n\u001b[0;32m    275\u001b[0m \u001b[39mif\u001b[39;00m file \u001b[39min\u001b[39;00m {\u001b[39m0\u001b[39m, \u001b[39m1\u001b[39m, \u001b[39m2\u001b[39m}:\n\u001b[0;32m    276\u001b[0m     \u001b[39mraise\u001b[39;00m \u001b[39mValueError\u001b[39;00m(\n\u001b[0;32m    277\u001b[0m         \u001b[39mf\u001b[39m\u001b[39m\"\u001b[39m\u001b[39mIPython won\u001b[39m\u001b[39m'\u001b[39m\u001b[39mt let you open fd=\u001b[39m\u001b[39m{\u001b[39;00mfile\u001b[39m}\u001b[39;00m\u001b[39m by default \u001b[39m\u001b[39m\"\u001b[39m\n\u001b[0;32m    278\u001b[0m         \u001b[39m\"\u001b[39m\u001b[39mas it is likely to crash IPython. If you know what you are doing, \u001b[39m\u001b[39m\"\u001b[39m\n\u001b[0;32m    279\u001b[0m         \u001b[39m\"\u001b[39m\u001b[39myou can use builtins\u001b[39m\u001b[39m'\u001b[39m\u001b[39m open.\u001b[39m\u001b[39m\"\u001b[39m\n\u001b[0;32m    280\u001b[0m     )\n\u001b[1;32m--> 282\u001b[0m \u001b[39mreturn\u001b[39;00m io_open(file, \u001b[39m*\u001b[39;49margs, \u001b[39m*\u001b[39;49m\u001b[39m*\u001b[39;49mkwargs)\n",
      "\u001b[1;31mFileNotFoundError\u001b[0m: [Errno 2] No such file or directory: './flower_data/test_rose/labels/1.txt'"
     ]
    }
   ],
   "source": [
    "with open(f'./flower_data/{dir_name}/labels/{f_name[:-4]}.txt', 'w') as f:\n",
    "    f.write(f'0 {round(rx/len(img[0]),4)} {round(ry/len(img),4)} {round(rw/len(img[0]), 4)} {round(rh/len(img),4)}')"
   ]
  },
  {
   "cell_type": "code",
   "execution_count": 11,
   "metadata": {},
   "outputs": [],
   "source": [
    "dir_name = 'train_rose'\n",
    "f_name = '.jpg'\n",
    "\n",
    "img = cv2.imread(f'./flower_data/{dir_name}/images/{f_name}')\n",
    "\n",
    "# 이미지를 HSV 색 공간으로 변환\n",
    "hsv = cv2.cvtColor(img, cv2.COLOR_BGR2HSV)\n",
    "\n",
    "# 장미꽃 봉우리의 색상 범위 정의\n",
    "lower_red = np.array([0, 50, 50])\n",
    "upper_red = np.array([10, 255, 255])\n",
    "\n",
    "# 임계값 처리\n",
    "mask1 = cv2.inRange(hsv, lower_red, upper_red)\n",
    "\n",
    "# 장미꽃 봉우리의 색상 범위 정의\n",
    "lower_red = np.array([170, 50, 50])\n",
    "upper_red = np.array([180, 255, 255])\n",
    "\n",
    "# 임계값 처리\n",
    "mask2 = cv2.inRange(hsv, lower_red, upper_red)\n",
    "\n",
    "# 두 개의 마스크를 합치기\n",
    "mask = cv2.add(mask1, mask2)\n",
    "\n",
    "# 블러 처리\n",
    "mask = cv2.GaussianBlur(mask, (5, 5), 0)\n",
    "\n",
    "# 바운딩 박스 검출\n",
    "contours, hierarchy = cv2.findContours(mask, cv2.RETR_EXTERNAL, cv2.CHAIN_APPROX_SIMPLE)\n",
    "\n",
    "for cnt in contours:\n",
    "    wh = 0\n",
    "    # contour의 영역을 얻어 바운딩 박스 그리기\n",
    "    x, y, w, h = cv2.boundingRect(cnt)\n",
    "    if w + h > wh:\n",
    "        rx, ry, rw, rh = x,y,w,h\n",
    "        \n",
    "cv2.rectangle(img, (rx, ry), (rx + rw, ry + rh), (0, 255, 0), 2)\n",
    "\n",
    "# 결과 이미지 출력\n",
    "cv2.imshow('result', img)\n",
    "cv2.waitKey(0)\n",
    "cv2.destroyAllWindows()"
   ]
  },
  {
   "cell_type": "code",
   "execution_count": 2,
   "metadata": {},
   "outputs": [],
   "source": [
    "dir_name = 'train_rose'\n",
    "f_name = '2'\n",
    "\n",
    "img = cv2.imread(f'./flower_data/{dir_name}/images/{f_name}')"
   ]
  }
 ],
 "metadata": {
  "kernelspec": {
   "display_name": "flower",
   "language": "python",
   "name": "python3"
  },
  "language_info": {
   "codemirror_mode": {
    "name": "ipython",
    "version": 3
   },
   "file_extension": ".py",
   "mimetype": "text/x-python",
   "name": "python",
   "nbconvert_exporter": "python",
   "pygments_lexer": "ipython3",
   "version": "3.11.2"
  },
  "orig_nbformat": 4
 },
 "nbformat": 4,
 "nbformat_minor": 2
}
