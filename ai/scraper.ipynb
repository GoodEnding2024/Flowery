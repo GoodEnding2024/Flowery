{
 "cells": [
  {
   "cell_type": "code",
   "execution_count": 19,
   "metadata": {},
   "outputs": [],
   "source": [
    "import os\n",
    "import requests\n",
    "from bs4 import BeautifulSoup"
   ]
  },
  {
   "cell_type": "code",
   "execution_count": 72,
   "metadata": {},
   "outputs": [
    {
     "data": {
      "text/plain": [
       "<Response [200]>"
      ]
     },
     "execution_count": 72,
     "metadata": {},
     "output_type": "execute_result"
    }
   ],
   "source": [
    "query = '붉은색 장미'\n",
    "\n",
    "header = {\n",
    "    'User-Agent': 'Mozilla/5.0 (Windows NT 10.0; Win64; x64) AppleWebKit/537.36 (KHTML, like Gecko) Chrome/58.0.3029.110 Safari/537.3'\n",
    "}\n",
    "\n",
    "url = f'https://www.google.com/search?q={query}&tbm=isch'\n",
    "\n",
    "req = requests.get(headers=header, url=url)\n",
    "\n",
    "req"
   ]
  },
  {
   "cell_type": "code",
   "execution_count": 73,
   "metadata": {},
   "outputs": [],
   "source": [
    "soup = BeautifulSoup(req.text, 'html.parser')\n",
    "\n",
    "i =  int(os.listdir('./flower_data/장미/')[-1][ :os.listdir('./flower_data/장미/')[-1].index('.')])+1 if os.listdir('./flower_data/장미/') else 0\n",
    "\n",
    "for img in soup.find_all(attrs={'jsname' : 'Q4LuWd'}):\n",
    "    try:\n",
    "        if img.get('data-src'):\n",
    "            img_url = img.get('data-src') \n",
    "        else:\n",
    "            continue\n",
    "        response = requests.get(img_url)\n",
    "        fn = str(i).rjust(4,'0')\n",
    "        with open(f'flower_data/장미/{fn}.jpg', 'wb') as f:\n",
    "            f.write(response.content)\n",
    "        i += 1\n",
    "    except:\n",
    "        print('error')"
   ]
  },
  {
   "cell_type": "code",
   "execution_count": 87,
   "metadata": {},
   "outputs": [
    {
     "data": {
      "text/plain": [
       "True"
      ]
     },
     "execution_count": 87,
     "metadata": {},
     "output_type": "execute_result"
    }
   ],
   "source": [
    "import cv2\n",
    "import numpy as np\n",
    "\n",
    "# 이미지 로드\n",
    "image = cv2.imread('0003.jpg')\n",
    "\n",
    "# 이미지의 B, G, R 채널 분리\n",
    "B, G, R = cv2.split(image)\n",
    "\n",
    "# 각 채널의 밝기, 대비, 색조 계산\n",
    "brightness_B = cv2.mean(B)[0]\n",
    "brightness_G = cv2.mean(G)[0]\n",
    "brightness_R = cv2.mean(R)[0]\n",
    "\n",
    "contrast_B = np.std(B)\n",
    "contrast_G = np.std(G)\n",
    "contrast_R = np.std(R)\n",
    "\n",
    "hue_B = cv2.mean(B)[0]\n",
    "hue_G = cv2.mean(G)[0]\n",
    "hue_R = cv2.mean(R)[0]\n",
    "\n",
    "# 꽃의 영역을 찾기 위해 적절한 임계값 설정\n",
    "# 밝기, 대비, 색조 등의 정보를 기반으로 조정 가능\n",
    "threshold = 150\n",
    "\n",
    "# 각 채널에서 임계값보다 밝은 픽셀만 선택\n",
    "mask_B = cv2.threshold(B, threshold, 255, cv2.THRESH_BINARY)[1]\n",
    "mask_G = cv2.threshold(G, threshold, 255, cv2.THRESH_BINARY)[1]\n",
    "mask_R = cv2.threshold(R, threshold, 255, cv2.THRESH_BINARY)[1]\n",
    "\n",
    "# 마스크 적용하여 꽃의 영역 추출\n",
    "mask = cv2.bitwise_and(mask_B, cv2.bitwise_and(mask_G, mask_R))\n",
    "result = cv2.bitwise_and(image, image, mask=mask)\n",
    "\n",
    "# 결과 이미지 저장\n",
    "cv2.imwrite('result.jpg', result)"
   ]
  },
  {
   "cell_type": "code",
   "execution_count": 88,
   "metadata": {},
   "outputs": [
    {
     "data": {
      "text/plain": [
       "array([[[255, 255, 255],\n",
       "        [255, 255, 255],\n",
       "        [255, 255, 255],\n",
       "        ...,\n",
       "        [255, 255, 255],\n",
       "        [255, 255, 255],\n",
       "        [255, 255, 255]],\n",
       "\n",
       "       [[255, 255, 255],\n",
       "        [255, 255, 255],\n",
       "        [255, 255, 255],\n",
       "        ...,\n",
       "        [255, 255, 255],\n",
       "        [255, 255, 255],\n",
       "        [255, 255, 255]],\n",
       "\n",
       "       [[255, 255, 255],\n",
       "        [255, 255, 255],\n",
       "        [255, 255, 255],\n",
       "        ...,\n",
       "        [255, 255, 255],\n",
       "        [255, 255, 255],\n",
       "        [255, 255, 255]],\n",
       "\n",
       "       ...,\n",
       "\n",
       "       [[255, 255, 255],\n",
       "        [255, 255, 255],\n",
       "        [255, 255, 255],\n",
       "        ...,\n",
       "        [255, 255, 255],\n",
       "        [255, 255, 255],\n",
       "        [255, 255, 255]],\n",
       "\n",
       "       [[255, 255, 255],\n",
       "        [255, 255, 255],\n",
       "        [255, 255, 255],\n",
       "        ...,\n",
       "        [255, 255, 255],\n",
       "        [255, 255, 255],\n",
       "        [255, 255, 255]],\n",
       "\n",
       "       [[255, 255, 255],\n",
       "        [255, 255, 255],\n",
       "        [255, 255, 255],\n",
       "        ...,\n",
       "        [255, 255, 255],\n",
       "        [255, 255, 255],\n",
       "        [255, 255, 255]]], dtype=uint8)"
      ]
     },
     "execution_count": 88,
     "metadata": {},
     "output_type": "execute_result"
    }
   ],
   "source": [
    "result"
   ]
  }
 ],
 "metadata": {
  "kernelspec": {
   "display_name": "base",
   "language": "python",
   "name": "python3"
  },
  "language_info": {
   "codemirror_mode": {
    "name": "ipython",
    "version": 3
   },
   "file_extension": ".py",
   "mimetype": "text/x-python",
   "name": "python",
   "nbconvert_exporter": "python",
   "pygments_lexer": "ipython3",
   "version": "3.11.2"
  },
  "orig_nbformat": 4
 },
 "nbformat": 4,
 "nbformat_minor": 2
}
