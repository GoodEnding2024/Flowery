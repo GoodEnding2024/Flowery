{
 "cells": [
  {
   "cell_type": "code",
   "execution_count": null,
   "metadata": {},
   "outputs": [],
   "source": [
    "import torch\n",
    "from PIL import Image\n",
    "\n",
    "# 모델 로드\n",
    "\n",
    "model1 = torch.hub.load('ultralytics/yolov5', 'custom', path='./models/main_5_3_14.pt', force_reload=True)"
   ]
  },
  {
   "cell_type": "code",
   "execution_count": null,
   "metadata": {},
   "outputs": [],
   "source": [
    "def result(image_path):\n",
    "    img = Image.open(image_path)\n",
    "    x, y = img.size\n",
    "    L, M = max(x,y), min(x,y)\n",
    "    if x == L:\n",
    "        img = img.resize([640,int(640/L * M)])\n",
    "    else:\n",
    "        img = img.resize([int(640/L * M), 640])\n",
    "    results = model1(img)\n",
    "    if len(results.xywh[0]):\n",
    "        \n",
    "        xywhn_list = results.xywhn[0]\n",
    "        del_idx = []\n",
    "        for i in range(len(xywhn_list)-1):\n",
    "            src = xywhn_list[i]\n",
    "            for j in range(i+1, len(xywhn_list)):\n",
    "                tar = xywhn_list[j]\n",
    "                \n",
    "                if abs(src[0] - tar[0]) <= 0.05 and abs(src[1] - tar[1]) <= 0.05:\n",
    "                    if src[4] > tar[4]:\n",
    "                        del_idx.append(j)\n",
    "                    else:\n",
    "                        del_idx.append(i)\n",
    "            if src[4] < 0.3:\n",
    "                del_idx.append(i)\n",
    "        else:\n",
    "            if xywhn_list[-1][4] < 0.3:\n",
    "                del_idx.append(i+1)\n",
    "            del_idx = sorted(list(set(del_idx)), reverse=True)\n",
    "            for di in del_idx:\n",
    "                if di == len(results.pred[0]):\n",
    "                    results.pred[0] = results.pred[0][:di, :]\n",
    "                else:\n",
    "                    results.pred[0] = torch.cat((results.pred[0][:di, :], results.pred[0][di+1:, :]), dim=0)\n",
    "    results.show()\n",
    "\n",
    "image_path = './x_buquet/f1.jpg'\n",
    "result(image_path)"
   ]
  },
  {
   "cell_type": "code",
   "execution_count": null,
   "metadata": {},
   "outputs": [],
   "source": [
    "image_path = './x_buquet/f2.jpg'\n",
    "result(image_path)"
   ]
  },
  {
   "cell_type": "code",
   "execution_count": null,
   "metadata": {},
   "outputs": [],
   "source": [
    "import shutil, os"
   ]
  },
  {
   "cell_type": "code",
   "execution_count": null,
   "metadata": {},
   "outputs": [],
   "source": [
    "\n",
    "cnt = 0\n",
    "for i in os.listdir('./0_scrapping_img'):\n",
    "    num = str(cnt).rjust(4,'0')\n",
    "    name = f'rose_{num}.jpg'\n",
    "    os.rename(f'./0_scrapping_img/{i}', f'./0_scrapping_img/{name}')\n",
    "    cnt += 1"
   ]
  },
  {
   "cell_type": "code",
   "execution_count": null,
   "metadata": {},
   "outputs": [],
   "source": [
    "import cv2"
   ]
  },
  {
   "cell_type": "code",
   "execution_count": null,
   "metadata": {},
   "outputs": [],
   "source": [
    "import cv2\n",
    "import numpy as np\n",
    "\n",
    "# 이미지 파일을 읽기\n",
    "image = cv2.imread('./0_scrapping_img/rose_0030.jpg')\n",
    "\n",
    "image = cv2.resize(image, (640, 640))\n",
    "\n",
    "# 이미지를 HSV 색 공간으로 변환\n",
    "hsv = cv2.cvtColor(image, cv2.COLOR_BGR2HSV)\n",
    "\n",
    "# 꽃 색상 범위 정의\n",
    "lower_color = np.array([0, 0, 175])\n",
    "upper_color = np.array([180, 120, 255])\n",
    "\n",
    "# 색상 범위에 따른 마스크 생성\n",
    "mask = cv2.inRange(hsv, lower_color, upper_color)\n",
    "\n",
    "# 마스크에서 객체의 윤곽선 검출\n",
    "contours, _ = cv2.findContours(mask, cv2.RETR_EXTERNAL, cv2.CHAIN_APPROX_SIMPLE)\n",
    "\n",
    "# 윤곽선을 바탕으로 바운딩 박스 그리기\n",
    "for contour in contours:\n",
    "    x, y, w, h = cv2.boundingRect(contour)\n",
    "    cv2.rectangle(image, (x, y), (x + w, y + h), (0, 255, 0), 2)\n",
    "\n",
    "# 결과 이미지 표시\n",
    "cv2.imshow('Result', image)\n",
    "cv2.waitKey(0)\n",
    "cv2.destroyAllWindows()"
   ]
  }
 ],
 "metadata": {
  "kernelspec": {
   "display_name": "flower",
   "language": "python",
   "name": "python3"
  },
  "language_info": {
   "codemirror_mode": {
    "name": "ipython",
    "version": 3
   },
   "file_extension": ".py",
   "mimetype": "text/x-python",
   "name": "python",
   "nbconvert_exporter": "python",
   "pygments_lexer": "ipython3",
   "version": "3.11.2"
  },
  "orig_nbformat": 4
 },
 "nbformat": 4,
 "nbformat_minor": 2
}
