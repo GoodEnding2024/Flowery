{
 "cells": [
  {
   "cell_type": "code",
   "execution_count": 1,
   "metadata": {},
   "outputs": [
    {
     "name": "stderr",
     "output_type": "stream",
     "text": [
      "Downloading: \"https://github.com/ultralytics/yolov5/zipball/master\" to C:\\Users\\SSAFY/.cache\\torch\\hub\\master.zip\n",
      "YOLOv5  2023-5-9 Python-3.11.2 torch-2.0.0+cu118 CUDA:0 (NVIDIA GeForce RTX 2070 Super with Max-Q Design, 8192MiB)\n",
      "\n"
     ]
    },
    {
     "name": "stdout",
     "output_type": "stream",
     "text": [
      "\u001b[31m\u001b[1mrequirements:\u001b[0m C:\\Users\\SSAFY\\.cache\\torch\\hub\\requirements.txt not found, check failed.\n"
     ]
    },
    {
     "name": "stderr",
     "output_type": "stream",
     "text": [
      "Fusing layers... \n",
      "total_YOLOv5l summary: 267 layers, 46215978 parameters, 0 gradients, 108.0 GFLOPs\n",
      "Adding AutoShape... \n"
     ]
    }
   ],
   "source": [
    "import torch\n",
    "from PIL import Image\n",
    "\n",
    "# 모델 로드\n",
    "\n",
    "model1 = torch.hub.load('ultralytics/yolov5', 'custom', path='./models/main_5_9.pt', force_reload=True)"
   ]
  },
  {
   "cell_type": "code",
   "execution_count": 41,
   "metadata": {},
   "outputs": [
    {
     "ename": "FileNotFoundError",
     "evalue": "[Errno 2] No such file or directory: './5_total_data/train/images/buquet_0004.jpg'",
     "output_type": "error",
     "traceback": [
      "\u001b[1;31m---------------------------------------------------------------------------\u001b[0m",
      "\u001b[1;31mFileNotFoundError\u001b[0m                         Traceback (most recent call last)",
      "Cell \u001b[1;32mIn[41], line 38\u001b[0m\n\u001b[0;32m     35\u001b[0m     results\u001b[39m.\u001b[39mshow()\n\u001b[0;32m     37\u001b[0m image_path \u001b[39m=\u001b[39m \u001b[39m'\u001b[39m\u001b[39m./5_total_data/train/images/buquet_0004.jpg\u001b[39m\u001b[39m'\u001b[39m\n\u001b[1;32m---> 38\u001b[0m result(image_path)\n",
      "Cell \u001b[1;32mIn[41], line 2\u001b[0m, in \u001b[0;36mresult\u001b[1;34m(image_path)\u001b[0m\n\u001b[0;32m      1\u001b[0m \u001b[39mdef\u001b[39;00m \u001b[39mresult\u001b[39m(image_path):\n\u001b[1;32m----> 2\u001b[0m     img \u001b[39m=\u001b[39m Image\u001b[39m.\u001b[39;49mopen(image_path)\n\u001b[0;32m      3\u001b[0m     x, y \u001b[39m=\u001b[39m img\u001b[39m.\u001b[39msize\n\u001b[0;32m      4\u001b[0m     L, M \u001b[39m=\u001b[39m \u001b[39mmax\u001b[39m(x,y), \u001b[39mmin\u001b[39m(x,y)\n",
      "File \u001b[1;32mc:\\Users\\SSAFY\\miniconda3\\envs\\flower\\Lib\\site-packages\\PIL\\Image.py:3131\u001b[0m, in \u001b[0;36mopen\u001b[1;34m(fp, mode, formats)\u001b[0m\n\u001b[0;32m   3128\u001b[0m     filename \u001b[39m=\u001b[39m fp\n\u001b[0;32m   3130\u001b[0m \u001b[39mif\u001b[39;00m filename:\n\u001b[1;32m-> 3131\u001b[0m     fp \u001b[39m=\u001b[39m builtins\u001b[39m.\u001b[39mopen(filename, \u001b[39m\"\u001b[39m\u001b[39mrb\u001b[39m\u001b[39m\"\u001b[39m)\n\u001b[0;32m   3132\u001b[0m     exclusive_fp \u001b[39m=\u001b[39m \u001b[39mTrue\u001b[39;00m\n\u001b[0;32m   3134\u001b[0m \u001b[39mtry\u001b[39;00m:\n",
      "\u001b[1;31mFileNotFoundError\u001b[0m: [Errno 2] No such file or directory: './5_total_data/train/images/buquet_0004.jpg'"
     ]
    }
   ],
   "source": [
    "def result(image_path):\n",
    "    img = Image.open(image_path)\n",
    "    x, y = img.size\n",
    "    L, M = max(x,y), min(x,y)\n",
    "    if x == L:\n",
    "        img = img.resize([640,int(640/L * M)])\n",
    "    else:\n",
    "        img = img.resize([int(640/L * M), 640])\n",
    "    results = model1(img)\n",
    "    if len(results.xywh[0]):\n",
    "        \n",
    "        xywhn_list = results.xywhn[0]\n",
    "        del_idx = []\n",
    "        for i in range(len(xywhn_list)-1):\n",
    "            src = xywhn_list[i]\n",
    "            for j in range(i+1, len(xywhn_list)):\n",
    "                tar = xywhn_list[j]\n",
    "                \n",
    "                if abs(src[0] - tar[0]) <= 0.05 and abs(src[1] - tar[1]) <= 0.05:\n",
    "                    if src[4] > tar[4]:\n",
    "                        del_idx.append(j)\n",
    "                    else:\n",
    "                        del_idx.append(i)\n",
    "            if src[4] < 0.3:\n",
    "                del_idx.append(i)\n",
    "        else:\n",
    "            if xywhn_list[-1][4] < 0.3:\n",
    "                del_idx.append(i+1)\n",
    "            del_idx = sorted(list(set(del_idx)), reverse=True)\n",
    "            for di in del_idx:\n",
    "                if di == len(results.pred[0]):\n",
    "                    results.pred[0] = results.pred[0][:di, :]\n",
    "                else:\n",
    "                    results.pred[0] = torch.cat((results.pred[0][:di, :], results.pred[0][di+1:, :]), dim=0)\n",
    "    results.show()\n",
    "\n",
    "image_path = './5_total_data/train/images/buquet_0005.jpg'\n",
    "result(image_path)"
   ]
  },
  {
   "cell_type": "code",
   "execution_count": null,
   "metadata": {},
   "outputs": [],
   "source": [
    "image_path = './x_buquet/f2.jpg'\n",
    "result(image_path)"
   ]
  },
  {
   "cell_type": "code",
   "execution_count": null,
   "metadata": {},
   "outputs": [],
   "source": [
    "import shutil, os"
   ]
  },
  {
   "cell_type": "code",
   "execution_count": null,
   "metadata": {},
   "outputs": [],
   "source": [
    "\n",
    "cnt = 0\n",
    "for i in os.listdir('./0_scrapping_img'):\n",
    "    num = str(cnt).rjust(4,'0')\n",
    "    name = f'rose_{num}.jpg'\n",
    "    os.rename(f'./0_scrapping_img/{i}', f'./0_scrapping_img/{name}')\n",
    "    cnt += 1"
   ]
  },
  {
   "cell_type": "code",
   "execution_count": null,
   "metadata": {},
   "outputs": [],
   "source": [
    "import cv2"
   ]
  },
  {
   "cell_type": "code",
   "execution_count": null,
   "metadata": {},
   "outputs": [],
   "source": [
    "import cv2\n",
    "import numpy as np\n",
    "\n",
    "# 이미지 파일을 읽기\n",
    "image = cv2.imread('./0_scrapping_img/rose_0030.jpg')\n",
    "\n",
    "image = cv2.resize(image, (640, 640))\n",
    "\n",
    "# 이미지를 HSV 색 공간으로 변환\n",
    "hsv = cv2.cvtColor(image, cv2.COLOR_BGR2HSV)\n",
    "\n",
    "# 꽃 색상 범위 정의\n",
    "lower_color = np.array([0, 0, 175])\n",
    "upper_color = np.array([180, 120, 255])\n",
    "\n",
    "# 색상 범위에 따른 마스크 생성\n",
    "mask = cv2.inRange(hsv, lower_color, upper_color)\n",
    "\n",
    "# 마스크에서 객체의 윤곽선 검출\n",
    "contours, _ = cv2.findContours(mask, cv2.RETR_EXTERNAL, cv2.CHAIN_APPROX_SIMPLE)\n",
    "\n",
    "# 윤곽선을 바탕으로 바운딩 박스 그리기\n",
    "for contour in contours:\n",
    "    x, y, w, h = cv2.boundingRect(contour)\n",
    "    cv2.rectangle(image, (x, y), (x + w, y + h), (0, 255, 0), 2)\n",
    "\n",
    "# 결과 이미지 표시\n",
    "cv2.imshow('Result', image)\n",
    "cv2.waitKey(0)\n",
    "cv2.destroyAllWindows()"
   ]
  }
 ],
 "metadata": {
  "kernelspec": {
   "display_name": "flower",
   "language": "python",
   "name": "python3"
  },
  "language_info": {
   "codemirror_mode": {
    "name": "ipython",
    "version": 3
   },
   "file_extension": ".py",
   "mimetype": "text/x-python",
   "name": "python",
   "nbconvert_exporter": "python",
   "pygments_lexer": "ipython3",
   "version": "3.11.2"
  },
  "orig_nbformat": 4
 },
 "nbformat": 4,
 "nbformat_minor": 2
}
