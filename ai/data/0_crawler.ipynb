{
 "cells": [
  {
   "cell_type": "code",
   "execution_count": null,
   "metadata": {},
   "outputs": [],
   "source": [
    "import requests\n",
    "import os\n",
    "from PIL import Image\n",
    "import imagehash\n",
    "import glob"
   ]
  },
  {
   "cell_type": "code",
   "execution_count": null,
   "metadata": {},
   "outputs": [],
   "source": [
    "flower_label = {\n",
    "                'buquet' : 0,\n",
    "                'rose' : 0,             # 장미\n",
    "                'empty1' : 1,\n",
    "                'tulip' : 2,            # 튤립\n",
    "                'carnation' : 3,\n",
    "                'empty2' : 4,        # 카네이션\n",
    "                'lily' : 5,             # 백합\n",
    "                'lisianthus' : 6,       # 리시안셔스\n",
    "                'small_chrysanthemum' : 7,    # 소국\n",
    "                'pompom_blooms' : 8,    # 퐁퐁국화\n",
    "                'sunflower': 9,         # 해바라기\n",
    "                'gerbera' : 10,          # 거베라\n",
    "                'alstroemeria' : 11,     # 알스트로메리아\n",
    "                'hydrangea' : 12,       # 수국\n",
    "                'peony' : 13,           # 작약\n",
    "                'stock' : 14,           # 스톡\n",
    "                'freesia' : 15,         # 프리지아\n",
    "                'ranunculus' : 16,      # 라넌큘러스\n",
    "                'empty3' : 17,\n",
    "                'butterfly':18,  # 라넌큘러스 버터플라이\n",
    "                'cala': 19,               # 칼라 꽃\n",
    "                'snapdragon' : 20,        # 금어초\n",
    "                }"
   ]
  },
  {
   "cell_type": "code",
   "execution_count": null,
   "metadata": {},
   "outputs": [],
   "source": [
    "url = 'https://openapi.naver.com/v1/search/image'\n",
    "header = {\n",
    "    'X-Naver-Client-Id': 'iwPIgOh0e7a1fgeRVg3y',\n",
    "    'X-Naver-Client-Secret' : 'rRjO7XI0eu'\n",
    "}\n",
    "\n",
    "# flowers = ['해바라기 한 송이', '거베라', '튤립 한 송이', '카네이션 한 송이', '리시안셔스 한 송이', '스프레이 장미 한 송이', '작약 한 송이', '라넌큘러스 한 송이', '프리지아 한 송이', '소국', '국화 한 송이', '백합 한 송이', '알스트로메리아']\n",
    "# dirs = ['sunflower', 'gubera', 'tulip', 'canation', 'risiansus', 'spray_rose', 'jacyak', 'lanunculase', 'prizia', 'small_guka', 'guka', 'backhap', 'alstromeria']\n",
    "flowers = ['프리지아 꽃', '프리지아 한 송이']\n",
    "dirs = ['freesia', 'freesia']\n",
    "\n",
    "for i in range(len(flowers)):\n",
    "    \n",
    "    q = flowers[i]\n",
    "    directory = dirs[i]\n",
    "    \n",
    "    if not os.path.isdir(f'./0_flower_data/{directory}'):\n",
    "        os.makedirs(f'./0_flower_data/{directory}')\n",
    "    \n",
    "    for s in [1, 101, 201, 301, 401, 501]:\n",
    "        print(f'{q} : {s}번째')\n",
    "        params = {\n",
    "            'query' : q,\n",
    "            'display' : 100,\n",
    "            'start' : s\n",
    "        }\n",
    "\n",
    "        req = requests.get(url=url, params=params, headers=header).json()\n",
    "\n",
    "        items = req['items']\n",
    "\n",
    "        cnt = int(os.listdir(f'./0_flower_data/{directory}/')[-1][:-4][-4:])+1 if os.listdir(f'./0_flower_data/{directory}/') else 0\n",
    "\n",
    "        for item in items:\n",
    "            try:\n",
    "                img_url = item['link']\n",
    "                response = requests.get(img_url)\n",
    "                fn = str(cnt).rjust(4,'0')\n",
    "                with open(f'./0_flower_data/{directory}/{directory}_{fn}.jpg', 'wb') as f:\n",
    "                    f.write(response.content)\n",
    "            except:\n",
    "                print('실행 실패')\n",
    "            cnt += 1"
   ]
  },
  {
   "cell_type": "code",
   "execution_count": null,
   "metadata": {},
   "outputs": [],
   "source": [
    "flower = 'freesia'\n",
    "\n",
    "hash_dict = {}\n",
    "x = []\n",
    "for f in os.listdir(f'./0_flower_data/{flower}'):\n",
    "\n",
    "    image_files = glob.glob(f\"./0_flower_data/{flower}/{f}\")  # 이미지 파일 경로 수정\n",
    "\n",
    "    for image_path in image_files:\n",
    "        try:\n",
    "            with Image.open(image_path) as img:\n",
    "                img_hash = imagehash.phash(img)\n",
    "                if img_hash not in hash_dict:\n",
    "                    hash_dict[img_hash] = image_path\n",
    "                else:\n",
    "                    print(f\"중복 이미지 발견: {image_path}\")\n",
    "                    x.append(image_path)\n",
    "        except:\n",
    "            x.append(image_path)\n",
    "\n",
    "for i in x:\n",
    "    print('이미지 삭제 : ', i)\n",
    "    os.remove(i)"
   ]
  },
  {
   "attachments": {},
   "cell_type": "markdown",
   "metadata": {},
   "source": [
    "### RGB로 변경 및 ICC 프로파일 제거"
   ]
  },
  {
   "cell_type": "code",
   "execution_count": null,
   "metadata": {},
   "outputs": [],
   "source": [
    "from PIL import Image\n",
    "\n",
    "flower = 'freesia'\n",
    "\n",
    "for f in os.listdir(f'./0_flower_data/{flower}'):\n",
    "    img_path = f'./0_flower_data/{flower}/{f}'\n",
    "    try:\n",
    "        with Image.open(img_path) as img:\n",
    "            img = img.convert('RGB')\n",
    "            img.save(img_path, 'JPEG', icc_profile=None)  # ICC 프로파일 제거\n",
    "    except:\n",
    "        print('잘못된 사진 : ', f)\n",
    "        os.remove(f'./0_flower_data/{flower}/{f}')"
   ]
  },
  {
   "attachments": {},
   "cell_type": "markdown",
   "metadata": {},
   "source": [
    "### 이미지 파일 부재시, 라벨 파일도 함께 삭제"
   ]
  },
  {
   "cell_type": "code",
   "execution_count": null,
   "metadata": {},
   "outputs": [],
   "source": [
    "for CLS in ['train', 'test']:\n",
    "    img_list = os.listdir(f'./5_total_data/{CLS}/images')\n",
    "    for f in os.listdir(f'./5_total_data/{CLS}/labels/'):\n",
    "        f_jpg = f[:-4]+'.jpg'\n",
    "        if f_jpg not in img_list:\n",
    "            print(f)"
   ]
  },
  {
   "cell_type": "code",
   "execution_count": null,
   "metadata": {},
   "outputs": [],
   "source": [
    "from PIL import Image\n",
    "\n",
    "def fix_image(image_path, output_path):\n",
    "    try:\n",
    "        # 이미지 파일을 엽니다.\n",
    "        img = Image.open(image_path)\n",
    "\n",
    "        # 이미지를 새로운 파일에 저장합니다.\n",
    "        img.save(output_path, \"JPEG\")\n",
    "        print(f\"이미지가 성공적으로 저장되었습니다: {output_path}\")\n",
    "    except IOError:\n",
    "        os.remove(image_path)\n",
    "        print(f\"이미지 처리 중 오류가 발생했습니다: {image_path}\")\n",
    "\n",
    "# 이미지 파일 경로\n",
    "f_list = os.listdir('./3_one_time_data/test/images/')\n",
    "\n",
    "\n",
    "for f in f_list:\n",
    "    image_path = f\"./3_one_time_data/test/images/{f}\"\n",
    "    output_path = f\"./3_one_time_data/test/images/{f}\"\n",
    "    fix_image(image_path, output_path)"
   ]
  }
 ],
 "metadata": {
  "kernelspec": {
   "display_name": "flower",
   "language": "python",
   "name": "python3"
  },
  "language_info": {
   "codemirror_mode": {
    "name": "ipython",
    "version": 3
   },
   "file_extension": ".py",
   "mimetype": "text/x-python",
   "name": "python",
   "nbconvert_exporter": "python",
   "pygments_lexer": "ipython3",
   "version": "3.11.2"
  },
  "orig_nbformat": 4
 },
 "nbformat": 4,
 "nbformat_minor": 2
}
